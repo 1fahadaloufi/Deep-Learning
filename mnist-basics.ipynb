{
 "cells": [
  {
   "cell_type": "markdown",
   "id": "0d26f095",
   "metadata": {
    "papermill": {
     "duration": 0.003617,
     "end_time": "2023-08-13T16:39:15.456417",
     "exception": false,
     "start_time": "2023-08-13T16:39:15.452800",
     "status": "completed"
    },
    "tags": []
   },
   "source": [
    "## Training A Digit Classifier That Distinguishes 3s from 7s using the MNIST Data Set "
   ]
  },
  {
   "cell_type": "code",
   "execution_count": 1,
   "id": "16f49d2f",
   "metadata": {
    "execution": {
     "iopub.execute_input": "2023-08-13T16:39:15.466465Z",
     "iopub.status.busy": "2023-08-13T16:39:15.465465Z",
     "iopub.status.idle": "2023-08-13T16:39:25.573575Z",
     "shell.execute_reply": "2023-08-13T16:39:25.572505Z"
    },
    "papermill": {
     "duration": 10.115292,
     "end_time": "2023-08-13T16:39:25.576347",
     "exception": false,
     "start_time": "2023-08-13T16:39:15.461055",
     "status": "completed"
    },
    "tags": []
   },
   "outputs": [
    {
     "name": "stderr",
     "output_type": "stream",
     "text": [
      "/opt/conda/lib/python3.10/site-packages/scipy/__init__.py:146: UserWarning: A NumPy version >=1.16.5 and <1.23.0 is required for this version of SciPy (detected version 1.23.5\n",
      "  warnings.warn(f\"A NumPy version >={np_minversion} and <{np_maxversion}\"\n"
     ]
    },
    {
     "data": {
      "text/html": [
       "\n",
       "<style>\n",
       "    /* Turns off some styling */\n",
       "    progress {\n",
       "        /* gets rid of default border in Firefox and Opera. */\n",
       "        border: none;\n",
       "        /* Needs to be in here for Safari polyfill so background images work as expected. */\n",
       "        background-size: auto;\n",
       "    }\n",
       "    progress:not([value]), progress:not([value])::-webkit-progress-bar {\n",
       "        background: repeating-linear-gradient(45deg, #7e7e7e, #7e7e7e 10px, #5c5c5c 10px, #5c5c5c 20px);\n",
       "    }\n",
       "    .progress-bar-interrupted, .progress-bar-interrupted::-webkit-progress-bar {\n",
       "        background: #F44336;\n",
       "    }\n",
       "</style>\n"
      ],
      "text/plain": [
       "<IPython.core.display.HTML object>"
      ]
     },
     "metadata": {},
     "output_type": "display_data"
    },
    {
     "data": {
      "text/html": [
       "\n",
       "    <div>\n",
       "      <progress value='3219456' class='' max='3214948' style='width:300px; height:20px; vertical-align: middle;'></progress>\n",
       "      100.14% [3219456/3214948 00:00&lt;00:00]\n",
       "    </div>\n",
       "    "
      ],
      "text/plain": [
       "<IPython.core.display.HTML object>"
      ]
     },
     "metadata": {},
     "output_type": "display_data"
    }
   ],
   "source": [
    "# Import the data \n",
    "import numpy as np\n",
    "from fastai.vision.all import *\n",
    "path = untar_data(URLs.MNIST_SAMPLE)"
   ]
  },
  {
   "cell_type": "code",
   "execution_count": 2,
   "id": "40719ec3",
   "metadata": {
    "execution": {
     "iopub.execute_input": "2023-08-13T16:39:25.585528Z",
     "iopub.status.busy": "2023-08-13T16:39:25.584019Z",
     "iopub.status.idle": "2023-08-13T16:39:29.622172Z",
     "shell.execute_reply": "2023-08-13T16:39:29.621237Z"
    },
    "papermill": {
     "duration": 4.0448,
     "end_time": "2023-08-13T16:39:29.624573",
     "exception": false,
     "start_time": "2023-08-13T16:39:25.579773",
     "status": "completed"
    },
    "tags": []
   },
   "outputs": [],
   "source": [
    "# collecting and formatting the data \n",
    "threes = (path/'train'/'3').ls()\n",
    "sevens = (path/'train'/'7').ls()\n",
    "\n",
    "sevens_tensors = [tensor(Image.open(o)) for o in sevens]\n",
    "three_tensors = [tensor(Image.open(o)) for o in threes]\n",
    "\n",
    "stacked_sevens = torch.stack(sevens_tensors).float()/255\n",
    "stacked_threes = torch.stack(three_tensors).float()/255\n",
    "\n",
    "\n",
    "valid_3_tens = torch.stack([tensor(Image.open(o)) for o in (path/'valid'/'3').ls()])\n",
    "valid_3_tens = valid_3_tens.float()/255\n",
    "\n",
    "valid_7_tens = torch.stack([tensor(Image.open(o)) for o in (path/'valid'/'7').ls()])\n",
    "valid_7_tens = valid_7_tens.float()/255"
   ]
  },
  {
   "cell_type": "code",
   "execution_count": 3,
   "id": "c7876003",
   "metadata": {
    "execution": {
     "iopub.execute_input": "2023-08-13T16:39:29.633665Z",
     "iopub.status.busy": "2023-08-13T16:39:29.632719Z",
     "iopub.status.idle": "2023-08-13T16:39:29.917135Z",
     "shell.execute_reply": "2023-08-13T16:39:29.916164Z"
    },
    "papermill": {
     "duration": 0.291167,
     "end_time": "2023-08-13T16:39:29.919605",
     "exception": false,
     "start_time": "2023-08-13T16:39:29.628438",
     "status": "completed"
    },
    "tags": []
   },
   "outputs": [],
   "source": [
    "train_x = torch.cat([stacked_threes, stacked_sevens]).view(-1, 28*28)\n",
    "train_y = tensor([1] * len(threes) + [0] * len(sevens)).unsqueeze(1)\n",
    "\n",
    "dset = list(zip(train_x, train_y)) \n",
    "\n",
    "valid_x = torch.cat([valid_3_tens, valid_7_tens]).view(-1, 28*28)\n",
    "valid_y = tensor([1] * len(valid_3_tens) + [0]*len(valid_7_tens)).unsqueeze(1)\n",
    "valid_dset = list(zip(valid_x, valid_y))"
   ]
  },
  {
   "cell_type": "code",
   "execution_count": 4,
   "id": "0607faa2",
   "metadata": {
    "execution": {
     "iopub.execute_input": "2023-08-13T16:39:29.927816Z",
     "iopub.status.busy": "2023-08-13T16:39:29.927534Z",
     "iopub.status.idle": "2023-08-13T16:39:29.933223Z",
     "shell.execute_reply": "2023-08-13T16:39:29.932123Z"
    },
    "papermill": {
     "duration": 0.012862,
     "end_time": "2023-08-13T16:39:29.935865",
     "exception": false,
     "start_time": "2023-08-13T16:39:29.923003",
     "status": "completed"
    },
    "tags": []
   },
   "outputs": [],
   "source": [
    "def mnist_loss(predictions, targets):\n",
    "    predictions = predictions.sigmoid()\n",
    "    return torch.where(targets==1, 1-predictions, predictions).mean()\n",
    "\n",
    "def batch_accuracy(xb, yb):\n",
    "    preds = xb.sigmoid()\n",
    "    correct = (preds>0.5) == yb\n",
    "    return correct.float().mean()"
   ]
  },
  {
   "cell_type": "code",
   "execution_count": 5,
   "id": "0e1f80be",
   "metadata": {
    "execution": {
     "iopub.execute_input": "2023-08-13T16:39:29.943602Z",
     "iopub.status.busy": "2023-08-13T16:39:29.943090Z",
     "iopub.status.idle": "2023-08-13T16:39:29.948024Z",
     "shell.execute_reply": "2023-08-13T16:39:29.947189Z"
    },
    "papermill": {
     "duration": 0.011025,
     "end_time": "2023-08-13T16:39:29.950079",
     "exception": false,
     "start_time": "2023-08-13T16:39:29.939054",
     "status": "completed"
    },
    "tags": []
   },
   "outputs": [],
   "source": [
    "dl = DataLoader(dset, batch_size=256)\n",
    "valid_dl = DataLoader(valid_dset, batch_size=256)\n"
   ]
  },
  {
   "cell_type": "code",
   "execution_count": 6,
   "id": "c10c9fcc",
   "metadata": {
    "execution": {
     "iopub.execute_input": "2023-08-13T16:39:29.957912Z",
     "iopub.status.busy": "2023-08-13T16:39:29.957639Z",
     "iopub.status.idle": "2023-08-13T16:39:29.968333Z",
     "shell.execute_reply": "2023-08-13T16:39:29.967456Z"
    },
    "papermill": {
     "duration": 0.017187,
     "end_time": "2023-08-13T16:39:29.970377",
     "exception": false,
     "start_time": "2023-08-13T16:39:29.953190",
     "status": "completed"
    },
    "tags": []
   },
   "outputs": [],
   "source": [
    "dls = DataLoaders(dl, valid_dl)\n",
    "learn = Learner(dls, nn.Linear(28*28, 1), opt_func=SGD, loss_func=mnist_loss, metrics=batch_accuracy)"
   ]
  },
  {
   "cell_type": "code",
   "execution_count": 7,
   "id": "07c5643a",
   "metadata": {
    "execution": {
     "iopub.execute_input": "2023-08-13T16:39:29.981397Z",
     "iopub.status.busy": "2023-08-13T16:39:29.980025Z",
     "iopub.status.idle": "2023-08-13T16:39:31.984834Z",
     "shell.execute_reply": "2023-08-13T16:39:31.983832Z"
    },
    "papermill": {
     "duration": 2.015703,
     "end_time": "2023-08-13T16:39:31.989266",
     "exception": false,
     "start_time": "2023-08-13T16:39:29.973563",
     "status": "completed"
    },
    "tags": []
   },
   "outputs": [
    {
     "data": {
      "text/html": [
       "\n",
       "<style>\n",
       "    /* Turns off some styling */\n",
       "    progress {\n",
       "        /* gets rid of default border in Firefox and Opera. */\n",
       "        border: none;\n",
       "        /* Needs to be in here for Safari polyfill so background images work as expected. */\n",
       "        background-size: auto;\n",
       "    }\n",
       "    progress:not([value]), progress:not([value])::-webkit-progress-bar {\n",
       "        background: repeating-linear-gradient(45deg, #7e7e7e, #7e7e7e 10px, #5c5c5c 10px, #5c5c5c 20px);\n",
       "    }\n",
       "    .progress-bar-interrupted, .progress-bar-interrupted::-webkit-progress-bar {\n",
       "        background: #F44336;\n",
       "    }\n",
       "</style>\n"
      ],
      "text/plain": [
       "<IPython.core.display.HTML object>"
      ]
     },
     "metadata": {},
     "output_type": "display_data"
    },
    {
     "data": {
      "text/html": [
       "<table border=\"1\" class=\"dataframe\">\n",
       "  <thead>\n",
       "    <tr style=\"text-align: left;\">\n",
       "      <th>epoch</th>\n",
       "      <th>train_loss</th>\n",
       "      <th>valid_loss</th>\n",
       "      <th>batch_accuracy</th>\n",
       "      <th>time</th>\n",
       "    </tr>\n",
       "  </thead>\n",
       "  <tbody>\n",
       "    <tr>\n",
       "      <td>0</td>\n",
       "      <td>0.636673</td>\n",
       "      <td>0.503002</td>\n",
       "      <td>0.495584</td>\n",
       "      <td>00:00</td>\n",
       "    </tr>\n",
       "    <tr>\n",
       "      <td>1</td>\n",
       "      <td>0.400988</td>\n",
       "      <td>0.248487</td>\n",
       "      <td>0.773307</td>\n",
       "      <td>00:00</td>\n",
       "    </tr>\n",
       "    <tr>\n",
       "      <td>2</td>\n",
       "      <td>0.151842</td>\n",
       "      <td>0.169814</td>\n",
       "      <td>0.847890</td>\n",
       "      <td>00:00</td>\n",
       "    </tr>\n",
       "    <tr>\n",
       "      <td>3</td>\n",
       "      <td>0.069864</td>\n",
       "      <td>0.103047</td>\n",
       "      <td>0.914622</td>\n",
       "      <td>00:00</td>\n",
       "    </tr>\n",
       "    <tr>\n",
       "      <td>4</td>\n",
       "      <td>0.039466</td>\n",
       "      <td>0.075096</td>\n",
       "      <td>0.935231</td>\n",
       "      <td>00:00</td>\n",
       "    </tr>\n",
       "    <tr>\n",
       "      <td>5</td>\n",
       "      <td>0.027632</td>\n",
       "      <td>0.059960</td>\n",
       "      <td>0.950932</td>\n",
       "      <td>00:00</td>\n",
       "    </tr>\n",
       "    <tr>\n",
       "      <td>6</td>\n",
       "      <td>0.022670</td>\n",
       "      <td>0.050680</td>\n",
       "      <td>0.960255</td>\n",
       "      <td>00:00</td>\n",
       "    </tr>\n",
       "    <tr>\n",
       "      <td>7</td>\n",
       "      <td>0.020289</td>\n",
       "      <td>0.044648</td>\n",
       "      <td>0.965162</td>\n",
       "      <td>00:00</td>\n",
       "    </tr>\n",
       "    <tr>\n",
       "      <td>8</td>\n",
       "      <td>0.018939</td>\n",
       "      <td>0.040474</td>\n",
       "      <td>0.967125</td>\n",
       "      <td>00:00</td>\n",
       "    </tr>\n",
       "    <tr>\n",
       "      <td>9</td>\n",
       "      <td>0.018051</td>\n",
       "      <td>0.037400</td>\n",
       "      <td>0.969087</td>\n",
       "      <td>00:00</td>\n",
       "    </tr>\n",
       "  </tbody>\n",
       "</table>"
      ],
      "text/plain": [
       "<IPython.core.display.HTML object>"
      ]
     },
     "metadata": {},
     "output_type": "display_data"
    }
   ],
   "source": [
    "learn.fit(10, lr=1.)"
   ]
  }
 ],
 "metadata": {
  "kernelspec": {
   "display_name": "Python 3",
   "language": "python",
   "name": "python3"
  },
  "language_info": {
   "codemirror_mode": {
    "name": "ipython",
    "version": 3
   },
   "file_extension": ".py",
   "mimetype": "text/x-python",
   "name": "python",
   "nbconvert_exporter": "python",
   "pygments_lexer": "ipython3",
   "version": "3.10.12"
  },
  "papermill": {
   "default_parameters": {},
   "duration": 29.717635,
   "end_time": "2023-08-13T16:39:34.880785",
   "environment_variables": {},
   "exception": null,
   "input_path": "__notebook__.ipynb",
   "output_path": "__notebook__.ipynb",
   "parameters": {},
   "start_time": "2023-08-13T16:39:05.163150",
   "version": "2.4.0"
  }
 },
 "nbformat": 4,
 "nbformat_minor": 5
}
